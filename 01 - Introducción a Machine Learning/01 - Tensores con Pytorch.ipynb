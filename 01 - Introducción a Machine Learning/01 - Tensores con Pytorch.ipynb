{
 "cells": [
  {
   "cell_type": "markdown",
   "metadata": {},
   "source": [
    "<font color = 'Purple'  size = 3>\n",
    "    \n",
    "# 01 - Tensores con Pytorch"
   ]
  },
  {
   "cell_type": "markdown",
   "metadata": {},
   "source": [
    "Importamos las librerías de utilidad."
   ]
  },
  {
   "cell_type": "code",
   "execution_count": 1,
   "metadata": {
    "colab": {},
    "colab_type": "code",
    "id": "jfd3d2XRb8Od"
   },
   "outputs": [],
   "source": [
    "import torch \n",
    "import numpy as np\n",
    "import pandas as pd"
   ]
  },
  {
   "cell_type": "code",
   "execution_count": 2,
   "metadata": {
    "colab": {
     "base_uri": "https://localhost:8080/",
     "height": 35
    },
    "colab_type": "code",
    "id": "SUHBWkigcZ_u",
    "outputId": "c6bf188e-4225-43c0-831e-a0f3f637883f"
   },
   "outputs": [
    {
     "data": {
      "text/plain": [
       "'1.7.1'"
      ]
     },
     "execution_count": 2,
     "metadata": {},
     "output_type": "execute_result"
    }
   ],
   "source": [
    "# Versión de torch. \n",
    "torch.__version__"
   ]
  },
  {
   "cell_type": "markdown",
   "metadata": {},
   "source": [
    "En una matriz, la primer entrada indica el número de filas y la segunda entrada el número de columnas. \n",
    "\n",
    "En un tensor la primer entrada será el número de vectores (\"filas\") y la segunda entrada es el número de valores que tendrá cada vector (\"columnas\")."
   ]
  },
  {
   "cell_type": "code",
   "execution_count": 3,
   "metadata": {
    "colab": {
     "base_uri": "https://localhost:8080/",
     "height": 84
    },
    "colab_type": "code",
    "id": "hZAgFbJXcjmE",
    "outputId": "2450c1c7-fdc6-45bc-ae18-3c097763ee96"
   },
   "outputs": [
    {
     "data": {
      "text/plain": [
       "tensor([[1., 1., 1., 1., 1.],\n",
       "        [1., 1., 1., 1., 1.],\n",
       "        [1., 1., 1., 1., 1.],\n",
       "        [1., 1., 1., 1., 1.],\n",
       "        [1., 1., 1., 1., 1.],\n",
       "        [1., 1., 1., 1., 1.]])"
      ]
     },
     "execution_count": 3,
     "metadata": {},
     "output_type": "execute_result"
    }
   ],
   "source": [
    "# Generar un tensor de n vectores con m unos en cada vector. \n",
    "n = 6\n",
    "m = 5\n",
    "tensor_a = torch.ones(n,m)\n",
    "tensor_a"
   ]
  },
  {
   "cell_type": "code",
   "execution_count": 4,
   "metadata": {},
   "outputs": [
    {
     "data": {
      "text/plain": [
       "array([[1., 1., 1., 1., 1.],\n",
       "       [1., 1., 1., 1., 1.],\n",
       "       [1., 1., 1., 1., 1.],\n",
       "       [1., 1., 1., 1., 1.],\n",
       "       [1., 1., 1., 1., 1.],\n",
       "       [1., 1., 1., 1., 1.]])"
      ]
     },
     "execution_count": 4,
     "metadata": {},
     "output_type": "execute_result"
    }
   ],
   "source": [
    "# Matriz de 6 x 8 llena de unos.\n",
    "unos_matriz = np.ones((6, 5))\n",
    "unos_matriz"
   ]
  },
  {
   "cell_type": "code",
   "execution_count": 5,
   "metadata": {},
   "outputs": [
    {
     "name": "stdout",
     "output_type": "stream",
     "text": [
      "Dimensión de unos_matriz:  2\n",
      "Dimensión de tensor_a:     2\n"
     ]
    }
   ],
   "source": [
    "print('Dimensión de unos_matriz: ', unos_matriz.ndim)\n",
    "print('Dimensión de tensor_a:    ', tensor_a.ndim)"
   ]
  },
  {
   "cell_type": "markdown",
   "metadata": {},
   "source": [
    "Al trabajar con pytorch es importante reconocer la forma en que se define un tensor pues si usamos numpy podemos obtener el mismo arreglo y éste es tratado como una matriz y no como un tensor. Esto es importante al momento de hacer operaciones entre arreglos donde las dimensiones del arreglo deben de ser las adecuadas para que se puedan efectuar las operaciones.\n",
    "\n",
    "Generemos ahora un tensor con valores aleatorios:"
   ]
  },
  {
   "cell_type": "code",
   "execution_count": 6,
   "metadata": {
    "colab": {
     "base_uri": "https://localhost:8080/",
     "height": 118
    },
    "colab_type": "code",
    "id": "9yZ54loVcuBk",
    "outputId": "24f722b0-c27d-45dd-85af-cc34e3305c89"
   },
   "outputs": [
    {
     "name": "stdout",
     "output_type": "stream",
     "text": [
      "Tensor con valores aleatorios: \n",
      "  tensor([[8.4490e-39, 9.6429e-39, 9.2755e-39, 1.0286e-38, 9.0919e-39, 8.9082e-39],\n",
      "        [9.2755e-39, 8.4490e-39, 8.9082e-39, 9.1837e-39, 1.0561e-38, 8.7245e-39],\n",
      "        [9.6429e-39, 1.0561e-38, 9.7347e-39, 1.0194e-38, 4.2246e-39, 1.0286e-38],\n",
      "        [5.0510e-39, 1.0928e-38, 1.0102e-38, 8.9082e-39, 9.1837e-39, 4.7755e-39],\n",
      "        [1.0286e-38, 9.1837e-39, 4.5918e-39, 6.1530e-39, 1.0102e-38, 9.6429e-39]])\n",
      "\n",
      " Tensor modificado ahora con valores entre 0 y 1: \n",
      "  tensor([[0.5247, 0.7088, 0.8859, 0.3214, 0.8524, 0.4579],\n",
      "        [0.6821, 0.8514, 0.2578, 0.2957, 0.0691, 0.3238],\n",
      "        [0.2628, 0.4352, 0.3889, 0.7120, 0.0744, 0.2754],\n",
      "        [0.7336, 0.7920, 0.4537, 0.5767, 0.3024, 0.3188],\n",
      "        [0.4602, 0.7942, 0.4785, 0.4551, 0.2470, 0.5354]])\n"
     ]
    }
   ],
   "source": [
    "# Tensor con valores aleatorios:\n",
    "tensor_b = torch.Tensor(5,6)         # Usamos 'Tensor' para generar el tensor aleatorio (Notar que 'Tensor' es con 'T').\n",
    "print('Tensor con valores aleatorios: \\n ', tensor_b)\n",
    "\n",
    "# El tensor anterior se puede modificar de manera que los valores ahora esten entre 0 y 1.\n",
    "tensor_b = tensor_b.uniform_(0,1)    # Para esta acción usamos 'uniform' e indicando entre que números van a estar los datos.\n",
    "print('\\n Tensor modificado ahora con valores entre 0 y 1: \\n ', tensor_b)               "
   ]
  },
  {
   "cell_type": "markdown",
   "metadata": {},
   "source": [
    "Por otro lado, se puede generar un tensor con valores aleatorios entre 0 y 1 usando 'rand'."
   ]
  },
  {
   "cell_type": "code",
   "execution_count": 7,
   "metadata": {
    "colab": {
     "base_uri": "https://localhost:8080/",
     "height": 67
    },
    "colab_type": "code",
    "id": "739HsdFGc2aE",
    "outputId": "42f0fab4-10af-4670-c7c1-ee2cb5463167"
   },
   "outputs": [
    {
     "data": {
      "text/plain": [
       "tensor([[0.5165, 0.9067, 0.3144, 0.5992, 0.1637, 0.9709],\n",
       "        [0.9526, 0.7855, 0.3082, 0.8366, 0.6865, 0.6184],\n",
       "        [0.2563, 0.4076, 0.8285, 0.5078, 0.7854, 0.9720],\n",
       "        [0.8931, 0.9759, 0.3501, 0.9275, 0.1307, 0.9538],\n",
       "        [0.2465, 0.9884, 0.4787, 0.0511, 0.4070, 0.1482]])"
      ]
     },
     "execution_count": 7,
     "metadata": {},
     "output_type": "execute_result"
    }
   ],
   "source": [
    "tensor_c = torch.rand(5,6)\n",
    "tensor_c"
   ]
  },
  {
   "cell_type": "markdown",
   "metadata": {},
   "source": [
    "Los tensores se pueden sumar, la suma es entrada a entrada por ello es importante que las dimensiones de los tensores sean iguales."
   ]
  },
  {
   "cell_type": "code",
   "execution_count": 8,
   "metadata": {
    "colab": {
     "base_uri": "https://localhost:8080/",
     "height": 67
    },
    "colab_type": "code",
    "id": "xMqXZhtwdQVk",
    "outputId": "6788a214-c3df-46c3-aebc-1f38572e321e"
   },
   "outputs": [
    {
     "data": {
      "text/plain": [
       "tensor([[1.0412, 1.6155, 1.2003, 0.9206, 1.0162, 1.4288],\n",
       "        [1.6347, 1.6369, 0.5660, 1.1323, 0.7556, 0.9422],\n",
       "        [0.5190, 0.8428, 1.2174, 1.2197, 0.8599, 1.2473],\n",
       "        [1.6267, 1.7679, 0.8038, 1.5042, 0.4331, 1.2726],\n",
       "        [0.7066, 1.7825, 0.9572, 0.5062, 0.6540, 0.6836]])"
      ]
     },
     "execution_count": 8,
     "metadata": {},
     "output_type": "execute_result"
    }
   ],
   "source": [
    "suma_tensores = tensor_b + tensor_c\n",
    "suma_tensores"
   ]
  },
  {
   "cell_type": "markdown",
   "metadata": {},
   "source": [
    "Se pueden cambiar las dimensiones de los tensores."
   ]
  },
  {
   "cell_type": "code",
   "execution_count": 9,
   "metadata": {
    "colab": {
     "base_uri": "https://localhost:8080/",
     "height": 202
    },
    "colab_type": "code",
    "id": "eqWzMHhrdYK7",
    "outputId": "a2886209-cf4c-43cc-edfc-583d5ab8f489"
   },
   "outputs": [
    {
     "name": "stdout",
     "output_type": "stream",
     "text": [
      "torch.Size([5, 6])\n",
      "tensor([[1.0412, 1.6155, 1.2003, 0.9206, 1.0162],\n",
      "        [1.4288, 1.6347, 1.6369, 0.5660, 1.1323],\n",
      "        [0.7556, 0.9422, 0.5190, 0.8428, 1.2174],\n",
      "        [1.2197, 0.8599, 1.2473, 1.6267, 1.7679],\n",
      "        [0.8038, 1.5042, 0.4331, 1.2726, 0.7066],\n",
      "        [1.7825, 0.9572, 0.5062, 0.6540, 0.6836]])\n",
      "torch.Size([6, 5])\n"
     ]
    }
   ],
   "source": [
    "print(suma_tensores.shape)                      # Muestra la forma del tensor suma.\n",
    "tensor_convertido = suma_tensores.view(6, 5)    # Convierte el tensor suma de dimensiones (5,6) a uno de dimenisones (6,5).\n",
    "print(tensor_convertido)\n",
    "print(tensor_convertido.shape)"
   ]
  },
  {
   "cell_type": "markdown",
   "metadata": {},
   "source": [
    "Se pueden cambiar los valores de las entradas de los tensores."
   ]
  },
  {
   "cell_type": "code",
   "execution_count": 31,
   "metadata": {
    "colab": {
     "base_uri": "https://localhost:8080/",
     "height": 168
    },
    "colab_type": "code",
    "id": "PyLkOeCTdjbz",
    "outputId": "be0c3a82-89b9-4da8-c11d-d127aadb8394"
   },
   "outputs": [
    {
     "name": "stdout",
     "output_type": "stream",
     "text": [
      "tensor([[1., 2.],\n",
      "        [3., 4.]])\n",
      "tensor([[1.0000, 2.5000],\n",
      "        [3.0000, 4.0000]])\n"
     ]
    },
    {
     "data": {
      "text/plain": [
       " 1.0\n",
       " 2.5\n",
       " 3.0\n",
       " 4.0\n",
       "[torch.FloatStorage of size 4]"
      ]
     },
     "execution_count": 31,
     "metadata": {},
     "output_type": "execute_result"
    }
   ],
   "source": [
    "tensor = torch.tensor([[1.0,2.0],[3.0,4.0]])  # Genera un tensor con las entradas que deseemos.\n",
    "print(tensor)\n",
    "tensor[0][1] = 2.5                            # Modifica la entrada (0,1) del tensor.\n",
    "print(tensor)\n",
    "tensor.storage()                              # Muestra los valores almacenados en el tensor."
   ]
  },
  {
   "cell_type": "code",
   "execution_count": 32,
   "metadata": {
    "colab": {
     "base_uri": "https://localhost:8080/",
     "height": 51
    },
    "colab_type": "code",
    "id": "MT7qu4PTftGy",
    "outputId": "61f5b1d5-611a-4c75-f374-428e1c7ea37a"
   },
   "outputs": [
    {
     "data": {
      "text/plain": [
       "(tensor([[1.0000, 2.5000],\n",
       "         [3.0000, 4.0000]]),\n",
       " (2, 1))"
      ]
     },
     "execution_count": 32,
     "metadata": {},
     "output_type": "execute_result"
    }
   ],
   "source": [
    "tensor, tensor.stride()                       # Revisar la función .stride()."
   ]
  },
  {
   "cell_type": "code",
   "execution_count": 12,
   "metadata": {
    "colab": {
     "base_uri": "https://localhost:8080/",
     "height": 51
    },
    "colab_type": "code",
    "id": "68OoRWCBgA9P",
    "outputId": "cd3352a2-8ab9-4aaa-93ca-450ab49adc04"
   },
   "outputs": [
    {
     "data": {
      "text/plain": [
       "(tensor([[1.0000, 3.0000],\n",
       "         [2.5000, 4.0000]]),\n",
       " (1, 2))"
      ]
     },
     "execution_count": 12,
     "metadata": {},
     "output_type": "execute_result"
    }
   ],
   "source": [
    "tensor_t = tensor.t()                         # Es el tensor transpuesto al tensor anterior.\n",
    "tensor_t, tensor_t.stride()"
   ]
  },
  {
   "cell_type": "code",
   "execution_count": 39,
   "metadata": {
    "colab": {
     "base_uri": "https://localhost:8080/",
     "height": 34
    },
    "colab_type": "code",
    "id": "RTep2uOjgPMW",
    "outputId": "93593783-a4d2-42c4-958b-20675ecd3d30"
   },
   "outputs": [
    {
     "data": {
      "text/plain": [
       "(tensor([1, 2, 3, 4]), tensor([[1, 2, 3, 4]]))"
      ]
     },
     "execution_count": 39,
     "metadata": {},
     "output_type": "execute_result"
    }
   ],
   "source": [
    "tensor_x = torch.tensor([1,2,3,4])            # Se genera un tensor de una dimensión.\n",
    "tensor_x, torch.unsqueeze(tensor_x, 0)        # Cambia la dimensión del tensor."
   ]
  },
  {
   "cell_type": "code",
   "execution_count": 14,
   "metadata": {
    "colab": {
     "base_uri": "https://localhost:8080/",
     "height": 84
    },
    "colab_type": "code",
    "id": "EyEBxu7ap960",
    "outputId": "cb4ad92c-bd60-46c2-9441-c95245a97c54"
   },
   "outputs": [
    {
     "data": {
      "text/plain": [
       "(tensor([1, 2, 3, 4]),\n",
       " tensor([[1],\n",
       "         [2],\n",
       "         [3],\n",
       "         [4]]))"
      ]
     },
     "execution_count": 14,
     "metadata": {},
     "output_type": "execute_result"
    }
   ],
   "source": [
    "tensor_x, torch.unsqueeze(tensor_x, 1)        # Cambia la dimensión del tensor. "
   ]
  },
  {
   "cell_type": "markdown",
   "metadata": {},
   "source": [
    "Los arreglos generados con Numpy se puede transformar en tensores usando torch."
   ]
  },
  {
   "cell_type": "code",
   "execution_count": 42,
   "metadata": {
    "colab": {
     "base_uri": "https://localhost:8080/",
     "height": 118
    },
    "colab_type": "code",
    "id": "A5QABpYehcm3",
    "outputId": "ebc0f05c-9965-47d7-e1a7-09a210ada997"
   },
   "outputs": [
    {
     "name": "stdout",
     "output_type": "stream",
     "text": [
      "[[ 0.30751544  0.18480727 -1.63485123]\n",
      " [-0.79259278  0.63457667  0.69178408]\n",
      " [ 0.55144208  0.46556796 -1.01254989]]\n"
     ]
    },
    {
     "data": {
      "text/plain": [
       "tensor([[ 0.3075,  0.1848, -1.6349],\n",
       "        [-0.7926,  0.6346,  0.6918],\n",
       "        [ 0.5514,  0.4656, -1.0125]], dtype=torch.float64)"
      ]
     },
     "execution_count": 42,
     "metadata": {},
     "output_type": "execute_result"
    }
   ],
   "source": [
    "arreglo = np.random.randn(3,3)                # Genera un arreglo de n x n usando numpy.\n",
    "print(arreglo)\n",
    "tensor_arreglo = torch.from_numpy(arreglo)    # El arreglo generado con numpy, torch lo vuelve un tensor.\n",
    "tensor_arreglo"
   ]
  },
  {
   "cell_type": "markdown",
   "metadata": {},
   "source": [
    "Se puede obtener información estadística de las cantidades que hay en los tensores."
   ]
  },
  {
   "cell_type": "code",
   "execution_count": 44,
   "metadata": {
    "colab": {
     "base_uri": "https://localhost:8080/",
     "height": 118
    },
    "colab_type": "code",
    "id": "l-nvt0yii98i",
    "outputId": "acb74f75-fe4c-46b0-8631-38d020529214"
   },
   "outputs": [
    {
     "name": "stdout",
     "output_type": "stream",
     "text": [
      "tensor([[ 0.3075,  0.1848, -1.6349],\n",
      "        [-0.7926,  0.6346,  0.6918],\n",
      "        [ 0.5514,  0.4656, -1.0125]], dtype=torch.float64)\n",
      "tensor(-0.0671, dtype=torch.float64)\n",
      "tensor([ 0.0221,  0.4283, -0.6519], dtype=torch.float64)\n",
      "tensor([-0.3808,  0.1779,  0.0015], dtype=torch.float64)\n"
     ]
    }
   ],
   "source": [
    "print(tensor_arreglo)\n",
    "print(torch.mean(tensor_arreglo))             # Tensor con la media de todos los valores en el tensor.\n",
    "print(torch.mean(tensor_arreglo, dim = 0))    # Tensor con la media de los valores que se encuantran por columna.\n",
    "print(torch.mean(tensor_arreglo, dim = 1))    # Tensor con la media de los valores que se encuantran en la fila."
   ]
  },
  {
   "cell_type": "code",
   "execution_count": 47,
   "metadata": {
    "colab": {
     "base_uri": "https://localhost:8080/",
     "height": 118
    },
    "colab_type": "code",
    "id": "V4oeAjWejODp",
    "outputId": "a298f3df-e93f-4ac0-dcef-c817a77ad2d8"
   },
   "outputs": [
    {
     "name": "stdout",
     "output_type": "stream",
     "text": [
      "tensor([[ 0.3075,  0.1848, -1.6349],\n",
      "        [-0.7926,  0.6346,  0.6918],\n",
      "        [ 0.5514,  0.4656, -1.0125]], dtype=torch.float64)\n",
      "tensor(0.8527, dtype=torch.float64)\n",
      "tensor([0.7160, 0.2272, 1.2045], dtype=torch.float64)\n",
      "tensor([1.0877, 0.8410, 0.8792], dtype=torch.float64)\n"
     ]
    }
   ],
   "source": [
    "print(tensor_arreglo)\n",
    "print(torch.std(tensor_arreglo))              # Tensor con la desviación estándar de todos los valores en el tensor.\n",
    "print(torch.std(tensor_arreglo, dim = 0))     # Tensor con la desviación estándar de los valores que se encuantran por columna.\n",
    "print(torch.std(tensor_arreglo, dim = 1))     # Tensor con la desviación estándar de los valores que se encuantran en la fila."
   ]
  },
  {
   "cell_type": "markdown",
   "metadata": {
    "colab_type": "text",
    "id": "9d3OOg7aiosv"
   },
   "source": [
    "<font color = 'Purple'  size = 2>\n",
    "    \n",
    "# Representar datos con tensores"
   ]
  },
  {
   "cell_type": "markdown",
   "metadata": {},
   "source": [
    "Vamos a cargar un conjunto de datos sobre fútbol en un 'data frame' usando Pandas."
   ]
  },
  {
   "cell_type": "code",
   "execution_count": 68,
   "metadata": {
    "colab": {
     "base_uri": "https://localhost:8080/",
     "height": 657
    },
    "colab_type": "code",
    "id": "LbmvZbhlkVHX",
    "outputId": "61f03aeb-d09d-429f-ed26-21d4d017004d"
   },
   "outputs": [
    {
     "data": {
      "text/html": [
       "<div>\n",
       "<style scoped>\n",
       "    .dataframe tbody tr th:only-of-type {\n",
       "        vertical-align: middle;\n",
       "    }\n",
       "\n",
       "    .dataframe tbody tr th {\n",
       "        vertical-align: top;\n",
       "    }\n",
       "\n",
       "    .dataframe thead th {\n",
       "        text-align: right;\n",
       "    }\n",
       "</style>\n",
       "<table border=\"1\" class=\"dataframe\">\n",
       "  <thead>\n",
       "    <tr style=\"text-align: right;\">\n",
       "      <th></th>\n",
       "      <th>Unnamed: 0</th>\n",
       "      <th>ID</th>\n",
       "      <th>Name</th>\n",
       "      <th>Age</th>\n",
       "      <th>Photo</th>\n",
       "      <th>Nationality</th>\n",
       "      <th>Flag</th>\n",
       "      <th>Overall</th>\n",
       "      <th>Potential</th>\n",
       "      <th>Club</th>\n",
       "      <th>...</th>\n",
       "      <th>Composure</th>\n",
       "      <th>Marking</th>\n",
       "      <th>StandingTackle</th>\n",
       "      <th>SlidingTackle</th>\n",
       "      <th>GKDiving</th>\n",
       "      <th>GKHandling</th>\n",
       "      <th>GKKicking</th>\n",
       "      <th>GKPositioning</th>\n",
       "      <th>GKReflexes</th>\n",
       "      <th>Release Clause</th>\n",
       "    </tr>\n",
       "  </thead>\n",
       "  <tbody>\n",
       "    <tr>\n",
       "      <th>0</th>\n",
       "      <td>0</td>\n",
       "      <td>158023</td>\n",
       "      <td>L. Messi</td>\n",
       "      <td>31</td>\n",
       "      <td>https://cdn.sofifa.org/players/4/19/158023.png</td>\n",
       "      <td>Argentina</td>\n",
       "      <td>https://cdn.sofifa.org/flags/52.png</td>\n",
       "      <td>94</td>\n",
       "      <td>94</td>\n",
       "      <td>FC Barcelona</td>\n",
       "      <td>...</td>\n",
       "      <td>96.0</td>\n",
       "      <td>33.0</td>\n",
       "      <td>28.0</td>\n",
       "      <td>26.0</td>\n",
       "      <td>6.0</td>\n",
       "      <td>11.0</td>\n",
       "      <td>15.0</td>\n",
       "      <td>14.0</td>\n",
       "      <td>8.0</td>\n",
       "      <td>€226.5M</td>\n",
       "    </tr>\n",
       "    <tr>\n",
       "      <th>1</th>\n",
       "      <td>1</td>\n",
       "      <td>20801</td>\n",
       "      <td>Cristiano Ronaldo</td>\n",
       "      <td>33</td>\n",
       "      <td>https://cdn.sofifa.org/players/4/19/20801.png</td>\n",
       "      <td>Portugal</td>\n",
       "      <td>https://cdn.sofifa.org/flags/38.png</td>\n",
       "      <td>94</td>\n",
       "      <td>94</td>\n",
       "      <td>Juventus</td>\n",
       "      <td>...</td>\n",
       "      <td>95.0</td>\n",
       "      <td>28.0</td>\n",
       "      <td>31.0</td>\n",
       "      <td>23.0</td>\n",
       "      <td>7.0</td>\n",
       "      <td>11.0</td>\n",
       "      <td>15.0</td>\n",
       "      <td>14.0</td>\n",
       "      <td>11.0</td>\n",
       "      <td>€127.1M</td>\n",
       "    </tr>\n",
       "    <tr>\n",
       "      <th>2</th>\n",
       "      <td>2</td>\n",
       "      <td>190871</td>\n",
       "      <td>Neymar Jr</td>\n",
       "      <td>26</td>\n",
       "      <td>https://cdn.sofifa.org/players/4/19/190871.png</td>\n",
       "      <td>Brazil</td>\n",
       "      <td>https://cdn.sofifa.org/flags/54.png</td>\n",
       "      <td>92</td>\n",
       "      <td>93</td>\n",
       "      <td>Paris Saint-Germain</td>\n",
       "      <td>...</td>\n",
       "      <td>94.0</td>\n",
       "      <td>27.0</td>\n",
       "      <td>24.0</td>\n",
       "      <td>33.0</td>\n",
       "      <td>9.0</td>\n",
       "      <td>9.0</td>\n",
       "      <td>15.0</td>\n",
       "      <td>15.0</td>\n",
       "      <td>11.0</td>\n",
       "      <td>€228.1M</td>\n",
       "    </tr>\n",
       "    <tr>\n",
       "      <th>3</th>\n",
       "      <td>3</td>\n",
       "      <td>193080</td>\n",
       "      <td>De Gea</td>\n",
       "      <td>27</td>\n",
       "      <td>https://cdn.sofifa.org/players/4/19/193080.png</td>\n",
       "      <td>Spain</td>\n",
       "      <td>https://cdn.sofifa.org/flags/45.png</td>\n",
       "      <td>91</td>\n",
       "      <td>93</td>\n",
       "      <td>Manchester United</td>\n",
       "      <td>...</td>\n",
       "      <td>68.0</td>\n",
       "      <td>15.0</td>\n",
       "      <td>21.0</td>\n",
       "      <td>13.0</td>\n",
       "      <td>90.0</td>\n",
       "      <td>85.0</td>\n",
       "      <td>87.0</td>\n",
       "      <td>88.0</td>\n",
       "      <td>94.0</td>\n",
       "      <td>€138.6M</td>\n",
       "    </tr>\n",
       "    <tr>\n",
       "      <th>4</th>\n",
       "      <td>4</td>\n",
       "      <td>192985</td>\n",
       "      <td>K. De Bruyne</td>\n",
       "      <td>27</td>\n",
       "      <td>https://cdn.sofifa.org/players/4/19/192985.png</td>\n",
       "      <td>Belgium</td>\n",
       "      <td>https://cdn.sofifa.org/flags/7.png</td>\n",
       "      <td>91</td>\n",
       "      <td>92</td>\n",
       "      <td>Manchester City</td>\n",
       "      <td>...</td>\n",
       "      <td>88.0</td>\n",
       "      <td>68.0</td>\n",
       "      <td>58.0</td>\n",
       "      <td>51.0</td>\n",
       "      <td>15.0</td>\n",
       "      <td>13.0</td>\n",
       "      <td>5.0</td>\n",
       "      <td>10.0</td>\n",
       "      <td>13.0</td>\n",
       "      <td>€196.4M</td>\n",
       "    </tr>\n",
       "    <tr>\n",
       "      <th>...</th>\n",
       "      <td>...</td>\n",
       "      <td>...</td>\n",
       "      <td>...</td>\n",
       "      <td>...</td>\n",
       "      <td>...</td>\n",
       "      <td>...</td>\n",
       "      <td>...</td>\n",
       "      <td>...</td>\n",
       "      <td>...</td>\n",
       "      <td>...</td>\n",
       "      <td>...</td>\n",
       "      <td>...</td>\n",
       "      <td>...</td>\n",
       "      <td>...</td>\n",
       "      <td>...</td>\n",
       "      <td>...</td>\n",
       "      <td>...</td>\n",
       "      <td>...</td>\n",
       "      <td>...</td>\n",
       "      <td>...</td>\n",
       "      <td>...</td>\n",
       "    </tr>\n",
       "    <tr>\n",
       "      <th>18202</th>\n",
       "      <td>18202</td>\n",
       "      <td>238813</td>\n",
       "      <td>J. Lundstram</td>\n",
       "      <td>19</td>\n",
       "      <td>https://cdn.sofifa.org/players/4/19/238813.png</td>\n",
       "      <td>England</td>\n",
       "      <td>https://cdn.sofifa.org/flags/14.png</td>\n",
       "      <td>47</td>\n",
       "      <td>65</td>\n",
       "      <td>Crewe Alexandra</td>\n",
       "      <td>...</td>\n",
       "      <td>45.0</td>\n",
       "      <td>40.0</td>\n",
       "      <td>48.0</td>\n",
       "      <td>47.0</td>\n",
       "      <td>10.0</td>\n",
       "      <td>13.0</td>\n",
       "      <td>7.0</td>\n",
       "      <td>8.0</td>\n",
       "      <td>9.0</td>\n",
       "      <td>€143K</td>\n",
       "    </tr>\n",
       "    <tr>\n",
       "      <th>18203</th>\n",
       "      <td>18203</td>\n",
       "      <td>243165</td>\n",
       "      <td>N. Christoffersson</td>\n",
       "      <td>19</td>\n",
       "      <td>https://cdn.sofifa.org/players/4/19/243165.png</td>\n",
       "      <td>Sweden</td>\n",
       "      <td>https://cdn.sofifa.org/flags/46.png</td>\n",
       "      <td>47</td>\n",
       "      <td>63</td>\n",
       "      <td>Trelleborgs FF</td>\n",
       "      <td>...</td>\n",
       "      <td>42.0</td>\n",
       "      <td>22.0</td>\n",
       "      <td>15.0</td>\n",
       "      <td>19.0</td>\n",
       "      <td>10.0</td>\n",
       "      <td>9.0</td>\n",
       "      <td>9.0</td>\n",
       "      <td>5.0</td>\n",
       "      <td>12.0</td>\n",
       "      <td>€113K</td>\n",
       "    </tr>\n",
       "    <tr>\n",
       "      <th>18204</th>\n",
       "      <td>18204</td>\n",
       "      <td>241638</td>\n",
       "      <td>B. Worman</td>\n",
       "      <td>16</td>\n",
       "      <td>https://cdn.sofifa.org/players/4/19/241638.png</td>\n",
       "      <td>England</td>\n",
       "      <td>https://cdn.sofifa.org/flags/14.png</td>\n",
       "      <td>47</td>\n",
       "      <td>67</td>\n",
       "      <td>Cambridge United</td>\n",
       "      <td>...</td>\n",
       "      <td>41.0</td>\n",
       "      <td>32.0</td>\n",
       "      <td>13.0</td>\n",
       "      <td>11.0</td>\n",
       "      <td>6.0</td>\n",
       "      <td>5.0</td>\n",
       "      <td>10.0</td>\n",
       "      <td>6.0</td>\n",
       "      <td>13.0</td>\n",
       "      <td>€165K</td>\n",
       "    </tr>\n",
       "    <tr>\n",
       "      <th>18205</th>\n",
       "      <td>18205</td>\n",
       "      <td>246268</td>\n",
       "      <td>D. Walker-Rice</td>\n",
       "      <td>17</td>\n",
       "      <td>https://cdn.sofifa.org/players/4/19/246268.png</td>\n",
       "      <td>England</td>\n",
       "      <td>https://cdn.sofifa.org/flags/14.png</td>\n",
       "      <td>47</td>\n",
       "      <td>66</td>\n",
       "      <td>Tranmere Rovers</td>\n",
       "      <td>...</td>\n",
       "      <td>46.0</td>\n",
       "      <td>20.0</td>\n",
       "      <td>25.0</td>\n",
       "      <td>27.0</td>\n",
       "      <td>14.0</td>\n",
       "      <td>6.0</td>\n",
       "      <td>14.0</td>\n",
       "      <td>8.0</td>\n",
       "      <td>9.0</td>\n",
       "      <td>€143K</td>\n",
       "    </tr>\n",
       "    <tr>\n",
       "      <th>18206</th>\n",
       "      <td>18206</td>\n",
       "      <td>246269</td>\n",
       "      <td>G. Nugent</td>\n",
       "      <td>16</td>\n",
       "      <td>https://cdn.sofifa.org/players/4/19/246269.png</td>\n",
       "      <td>England</td>\n",
       "      <td>https://cdn.sofifa.org/flags/14.png</td>\n",
       "      <td>46</td>\n",
       "      <td>66</td>\n",
       "      <td>Tranmere Rovers</td>\n",
       "      <td>...</td>\n",
       "      <td>43.0</td>\n",
       "      <td>40.0</td>\n",
       "      <td>43.0</td>\n",
       "      <td>50.0</td>\n",
       "      <td>10.0</td>\n",
       "      <td>15.0</td>\n",
       "      <td>9.0</td>\n",
       "      <td>12.0</td>\n",
       "      <td>9.0</td>\n",
       "      <td>€165K</td>\n",
       "    </tr>\n",
       "  </tbody>\n",
       "</table>\n",
       "<p>18207 rows × 89 columns</p>\n",
       "</div>"
      ],
      "text/plain": [
       "       Unnamed: 0      ID                Name  Age  \\\n",
       "0               0  158023            L. Messi   31   \n",
       "1               1   20801   Cristiano Ronaldo   33   \n",
       "2               2  190871           Neymar Jr   26   \n",
       "3               3  193080              De Gea   27   \n",
       "4               4  192985        K. De Bruyne   27   \n",
       "...           ...     ...                 ...  ...   \n",
       "18202       18202  238813        J. Lundstram   19   \n",
       "18203       18203  243165  N. Christoffersson   19   \n",
       "18204       18204  241638           B. Worman   16   \n",
       "18205       18205  246268      D. Walker-Rice   17   \n",
       "18206       18206  246269           G. Nugent   16   \n",
       "\n",
       "                                                Photo Nationality  \\\n",
       "0      https://cdn.sofifa.org/players/4/19/158023.png   Argentina   \n",
       "1       https://cdn.sofifa.org/players/4/19/20801.png    Portugal   \n",
       "2      https://cdn.sofifa.org/players/4/19/190871.png      Brazil   \n",
       "3      https://cdn.sofifa.org/players/4/19/193080.png       Spain   \n",
       "4      https://cdn.sofifa.org/players/4/19/192985.png     Belgium   \n",
       "...                                               ...         ...   \n",
       "18202  https://cdn.sofifa.org/players/4/19/238813.png     England   \n",
       "18203  https://cdn.sofifa.org/players/4/19/243165.png      Sweden   \n",
       "18204  https://cdn.sofifa.org/players/4/19/241638.png     England   \n",
       "18205  https://cdn.sofifa.org/players/4/19/246268.png     England   \n",
       "18206  https://cdn.sofifa.org/players/4/19/246269.png     England   \n",
       "\n",
       "                                      Flag  Overall  Potential  \\\n",
       "0      https://cdn.sofifa.org/flags/52.png       94         94   \n",
       "1      https://cdn.sofifa.org/flags/38.png       94         94   \n",
       "2      https://cdn.sofifa.org/flags/54.png       92         93   \n",
       "3      https://cdn.sofifa.org/flags/45.png       91         93   \n",
       "4       https://cdn.sofifa.org/flags/7.png       91         92   \n",
       "...                                    ...      ...        ...   \n",
       "18202  https://cdn.sofifa.org/flags/14.png       47         65   \n",
       "18203  https://cdn.sofifa.org/flags/46.png       47         63   \n",
       "18204  https://cdn.sofifa.org/flags/14.png       47         67   \n",
       "18205  https://cdn.sofifa.org/flags/14.png       47         66   \n",
       "18206  https://cdn.sofifa.org/flags/14.png       46         66   \n",
       "\n",
       "                      Club  ... Composure Marking StandingTackle  \\\n",
       "0             FC Barcelona  ...      96.0    33.0           28.0   \n",
       "1                 Juventus  ...      95.0    28.0           31.0   \n",
       "2      Paris Saint-Germain  ...      94.0    27.0           24.0   \n",
       "3        Manchester United  ...      68.0    15.0           21.0   \n",
       "4          Manchester City  ...      88.0    68.0           58.0   \n",
       "...                    ...  ...       ...     ...            ...   \n",
       "18202      Crewe Alexandra  ...      45.0    40.0           48.0   \n",
       "18203       Trelleborgs FF  ...      42.0    22.0           15.0   \n",
       "18204     Cambridge United  ...      41.0    32.0           13.0   \n",
       "18205      Tranmere Rovers  ...      46.0    20.0           25.0   \n",
       "18206      Tranmere Rovers  ...      43.0    40.0           43.0   \n",
       "\n",
       "       SlidingTackle GKDiving  GKHandling  GKKicking  GKPositioning  \\\n",
       "0               26.0      6.0        11.0       15.0           14.0   \n",
       "1               23.0      7.0        11.0       15.0           14.0   \n",
       "2               33.0      9.0         9.0       15.0           15.0   \n",
       "3               13.0     90.0        85.0       87.0           88.0   \n",
       "4               51.0     15.0        13.0        5.0           10.0   \n",
       "...              ...      ...         ...        ...            ...   \n",
       "18202           47.0     10.0        13.0        7.0            8.0   \n",
       "18203           19.0     10.0         9.0        9.0            5.0   \n",
       "18204           11.0      6.0         5.0       10.0            6.0   \n",
       "18205           27.0     14.0         6.0       14.0            8.0   \n",
       "18206           50.0     10.0        15.0        9.0           12.0   \n",
       "\n",
       "      GKReflexes Release Clause  \n",
       "0            8.0        €226.5M  \n",
       "1           11.0        €127.1M  \n",
       "2           11.0        €228.1M  \n",
       "3           94.0        €138.6M  \n",
       "4           13.0        €196.4M  \n",
       "...          ...            ...  \n",
       "18202        9.0          €143K  \n",
       "18203       12.0          €113K  \n",
       "18204       13.0          €165K  \n",
       "18205        9.0          €143K  \n",
       "18206        9.0          €165K  \n",
       "\n",
       "[18207 rows x 89 columns]"
      ]
     },
     "execution_count": 68,
     "metadata": {},
     "output_type": "execute_result"
    }
   ],
   "source": [
    "url = \"https://raw.githubusercontent.com/amanthedorkknight/fifa18-all-player-statistics/master/2019/data.csv\" \n",
    "dataframe = pd.read_csv(url)       # Con pandas se lee el archivo csv y se guarda en una variable.\n",
    "dataframe"
   ]
  },
  {
   "cell_type": "code",
   "execution_count": 69,
   "metadata": {
    "colab": {
     "base_uri": "https://localhost:8080/",
     "height": 286
    },
    "colab_type": "code",
    "id": "GevsI9tAk-rm",
    "outputId": "6566100d-d1b5-4a36-a64d-1d79919fa4ee"
   },
   "outputs": [
    {
     "data": {
      "text/plain": [
       "Index(['Unnamed: 0', 'ID', 'Name', 'Age', 'Photo', 'Nationality', 'Flag',\n",
       "       'Overall', 'Potential', 'Club', 'Club Logo', 'Value', 'Wage', 'Special',\n",
       "       'Preferred Foot', 'International Reputation', 'Weak Foot',\n",
       "       'Skill Moves', 'Work Rate', 'Body Type', 'Real Face', 'Position',\n",
       "       'Jersey Number', 'Joined', 'Loaned From', 'Contract Valid Until',\n",
       "       'Height', 'Weight', 'LS', 'ST', 'RS', 'LW', 'LF', 'CF', 'RF', 'RW',\n",
       "       'LAM', 'CAM', 'RAM', 'LM', 'LCM', 'CM', 'RCM', 'RM', 'LWB', 'LDM',\n",
       "       'CDM', 'RDM', 'RWB', 'LB', 'LCB', 'CB', 'RCB', 'RB', 'Crossing',\n",
       "       'Finishing', 'HeadingAccuracy', 'ShortPassing', 'Volleys', 'Dribbling',\n",
       "       'Curve', 'FKAccuracy', 'LongPassing', 'BallControl', 'Acceleration',\n",
       "       'SprintSpeed', 'Agility', 'Reactions', 'Balance', 'ShotPower',\n",
       "       'Jumping', 'Stamina', 'Strength', 'LongShots', 'Aggression',\n",
       "       'Interceptions', 'Positioning', 'Vision', 'Penalties', 'Composure',\n",
       "       'Marking', 'StandingTackle', 'SlidingTackle', 'GKDiving', 'GKHandling',\n",
       "       'GKKicking', 'GKPositioning', 'GKReflexes', 'Release Clause'],\n",
       "      dtype='object')"
      ]
     },
     "execution_count": 69,
     "metadata": {},
     "output_type": "execute_result"
    }
   ],
   "source": [
    "# Muestra el nombre de los encabezados de las columnas en el conjunto de datos.\n",
    "dataframe.columns   "
   ]
  },
  {
   "cell_type": "code",
   "execution_count": 70,
   "metadata": {
    "colab": {
     "base_uri": "https://localhost:8080/",
     "height": 151
    },
    "colab_type": "code",
    "id": "IpnXZtPMlpw1",
    "outputId": "34e3ced7-aa00-425e-de04-4cd8bd71d0bf"
   },
   "outputs": [
    {
     "name": "stdout",
     "output_type": "stream",
     "text": [
      "tensor([[94., 31.,  5.,  4.,  4.],\n",
      "        [94., 33.,  5.,  4.,  5.],\n",
      "        [92., 26.,  5.,  5.,  5.],\n",
      "        ...,\n",
      "        [47., 16.,  1.,  3.,  2.],\n",
      "        [47., 17.,  1.,  3.,  2.],\n",
      "        [46., 16.,  1.,  3.,  2.]])\n"
     ]
    },
    {
     "data": {
      "text/plain": [
       "(torch.Size([18159, 5]), 'torch.FloatTensor')"
      ]
     },
     "execution_count": 70,
     "metadata": {},
     "output_type": "execute_result"
    }
   ],
   "source": [
    "# Consideramos sólo algunas columnas del conjunto de datos las cuales continen valores numéricos.\n",
    "subset = dataframe[['Overall', 'Age', 'International Reputation', 'Weak Foot', 'Skill Moves' ]].dropna(axis = 0, how = \"any\") \n",
    "\n",
    "# Eliminamos el encabezado de las columnas que elegimos.\n",
    "columns = subset.columns[1:]   \n",
    "players = torch.tensor(subset.values).float()  # Muestra los valores de la columnas elegidas.\n",
    "print(players)\n",
    "players.shape, players.type()                  # Muestra la forma del tensor y el tipo de elementos que contiene."
   ]
  },
  {
   "cell_type": "code",
   "execution_count": 71,
   "metadata": {
    "colab": {
     "base_uri": "https://localhost:8080/",
     "height": 134
    },
    "colab_type": "code",
    "id": "qtOQfL4Sl6jc",
    "outputId": "29ab6cff-f1f8-4175-86d8-5c1e87b6a1c0"
   },
   "outputs": [
    {
     "data": {
      "text/plain": [
       "(tensor([[31.,  5.,  4.,  4.],\n",
       "         [33.,  5.,  4.,  5.],\n",
       "         [26.,  5.,  5.,  5.],\n",
       "         ...,\n",
       "         [16.,  1.,  3.,  2.],\n",
       "         [17.,  1.,  3.,  2.],\n",
       "         [16.,  1.,  3.,  2.]]),\n",
       " torch.Size([18159, 4]))"
      ]
     },
     "execution_count": 71,
     "metadata": {},
     "output_type": "execute_result"
    }
   ],
   "source": [
    "# Eliminamos la primer columna correspondiente al 'Overall'\n",
    "data = players[:, 1:]   \n",
    "data, data.shape"
   ]
  },
  {
   "cell_type": "code",
   "execution_count": 72,
   "metadata": {
    "colab": {
     "base_uri": "https://localhost:8080/",
     "height": 34
    },
    "colab_type": "code",
    "id": "0kj4Wm6008gl",
    "outputId": "82f37401-2038-42de-9c2d-b4e411496781"
   },
   "outputs": [
    {
     "data": {
      "text/plain": [
       "(tensor([94., 94., 92.,  ..., 47., 47., 46.]), torch.Size([18159]))"
      ]
     },
     "execution_count": 72,
     "metadata": {},
     "output_type": "execute_result"
    }
   ],
   "source": [
    "# Ahora mostramos la columna correspondiente al 'Overall'\n",
    "target = players[:, 0]  \n",
    "target, target.shape"
   ]
  },
  {
   "cell_type": "code",
   "execution_count": 74,
   "metadata": {
    "colab": {
     "base_uri": "https://localhost:8080/",
     "height": 34
    },
    "colab_type": "code",
    "id": "6G54GQAn1-Ba",
    "outputId": "cf86ab4b-03ee-4fe3-bb3f-ce15b7df3759"
   },
   "outputs": [
    {
     "name": "stdout",
     "output_type": "stream",
     "text": [
      "Media:       tensor([25.1225,  1.1132,  2.9473,  2.3613])\n",
      "Desviación:  tensor([4.6706, 0.3940, 0.6605, 0.7562])\n"
     ]
    }
   ],
   "source": [
    "# Se calcula la media y la desviación estándar de las columnas de 'data'.\n",
    "mean = torch.mean(data, dim = 0)\n",
    "print('Media:      ', mean)\n",
    "std = torch.std(data, dim = 0)\n",
    "print('Desviación: ', std)"
   ]
  },
  {
   "cell_type": "code",
   "execution_count": 75,
   "metadata": {
    "colab": {
     "base_uri": "https://localhost:8080/",
     "height": 134
    },
    "colab_type": "code",
    "id": "7rAXQNmI2heh",
    "outputId": "cdcfd7c8-f5ab-422b-b281-21a888d2ca74"
   },
   "outputs": [
    {
     "data": {
      "text/plain": [
       "tensor([[ 2.7196,  6.1919,  1.2953,  1.8845],\n",
       "        [ 3.6450,  6.1919,  1.2953,  3.0345],\n",
       "        [ 0.4060,  6.1919,  2.5258,  3.0345],\n",
       "        ...,\n",
       "        [-4.2211, -0.1804,  0.0648, -0.4155],\n",
       "        [-3.7584, -0.1804,  0.0648, -0.4155],\n",
       "        [-4.2211, -0.1804,  0.0648, -0.4155]])"
      ]
     },
     "execution_count": 75,
     "metadata": {},
     "output_type": "execute_result"
    }
   ],
   "source": [
    "# Normalización de los datos.\n",
    "norm = (data - mean)/torch.sqrt(std)\n",
    "norm"
   ]
  },
  {
   "cell_type": "code",
   "execution_count": 76,
   "metadata": {
    "colab": {
     "base_uri": "https://localhost:8080/",
     "height": 67
    },
    "colab_type": "code",
    "id": "nJlZqg5X2wsw",
    "outputId": "9c0c0a75-4ca4-45b2-ccfc-b8fe3859a359"
   },
   "outputs": [
    {
     "data": {
      "text/plain": [
       "(tensor([28.3455,  3.3818,  3.4455,  3.0364]),\n",
       " tensor([27.2285,  1.3561,  3.1114,  2.7515]),\n",
       " tensor([24.3676,  1.0106,  2.8864,  2.2208]))"
      ]
     },
     "execution_count": 76,
     "metadata": {},
     "output_type": "execute_result"
    }
   ],
   "source": [
    "# Dividir los grupos a analizar.\n",
    "good = data[torch.ge(target, 85)]                               # Los jugadores buenos tienen un target mayor a 85.\n",
    "average = data[torch.gt(target, 70) & torch.lt(target, 85)]     # Los jugadores promedio tienen un target entre 70 y 85.\n",
    "notSoGood = data[torch.le(target, 70)]                          # Los jugadores no tan buenos tienen un target menor a 70.\n",
    "\n",
    "# Cálculo del promedio de los resultados anteriores.\n",
    "goodMean = torch. mean(good, dim = 0)\n",
    "averageMean = torch. mean(average, dim = 0)\n",
    "notSoGoodMean = torch. mean(notSoGood, dim = 0)\n",
    " \n",
    "# Mostrar los tensores.\n",
    "goodMean, averageMean, notSoGoodMean"
   ]
  },
  {
   "cell_type": "code",
   "execution_count": 77,
   "metadata": {
    "colab": {
     "base_uri": "https://localhost:8080/",
     "height": 84
    },
    "colab_type": "code",
    "id": "xaN98a0x4HlB",
    "outputId": "d2f2aa94-b7d1-44b0-e4ba-848c87391db0"
   },
   "outputs": [
    {
     "name": "stdout",
     "output_type": "stream",
     "text": [
      "Age                        28.35  27.23  24.37\n",
      "International Reputation    3.38   1.36   1.01\n",
      "Weak Foot                   3.45   3.11   2.89\n",
      "Skill Moves                 3.04   2.75   2.22\n"
     ]
    }
   ],
   "source": [
    "# Imprimimos en un mejor formato los resultados obtenidos.\n",
    "for i, args in enumerate(zip(columns, goodMean, averageMean, notSoGoodMean)):\n",
    "  print(\"{:25} {:6.2f} {:6.2f} {:6.2f}\".format(*args))"
   ]
  }
 ],
 "metadata": {
  "colab": {
   "collapsed_sections": [],
   "name": "Tensores1.ipynb",
   "provenance": []
  },
  "kernelspec": {
   "display_name": "Python 3",
   "language": "python",
   "name": "python3"
  },
  "language_info": {
   "codemirror_mode": {
    "name": "ipython",
    "version": 3
   },
   "file_extension": ".py",
   "mimetype": "text/x-python",
   "name": "python",
   "nbconvert_exporter": "python",
   "pygments_lexer": "ipython3",
   "version": "3.7.6"
  }
 },
 "nbformat": 4,
 "nbformat_minor": 1
}
