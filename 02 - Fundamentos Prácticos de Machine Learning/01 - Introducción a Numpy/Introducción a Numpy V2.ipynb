{
 "cells": [
  {
   "cell_type": "markdown",
   "metadata": {},
   "source": [
    "<font color = 'purple'  size = 3>\n",
    "    \n",
    "# Introducción a Numpy"
   ]
  },
  {
   "cell_type": "markdown",
   "metadata": {},
   "source": [
    "#### Importamos Numpy"
   ]
  },
  {
   "cell_type": "code",
   "execution_count": 1,
   "metadata": {
    "colab": {},
    "colab_type": "code",
    "id": "6PAic4STiPMS"
   },
   "outputs": [],
   "source": [
    "import numpy as np"
   ]
  },
  {
   "cell_type": "markdown",
   "metadata": {},
   "source": [
    "#### Creamos un 'array'. Podemos entender a un 'array' como un arreglo unidimensional, es decir, un vector."
   ]
  },
  {
   "cell_type": "code",
   "execution_count": 2,
   "metadata": {
    "colab": {
     "base_uri": "https://localhost:8080/",
     "height": 34
    },
    "colab_type": "code",
    "executionInfo": {
     "elapsed": 549,
     "status": "ok",
     "timestamp": 1566850037117,
     "user": {
      "displayName": "Yesi Days",
      "photoUrl": "https://lh3.googleusercontent.com/a-/AAuE7mCQ_NbHPfVEbt660uXIuQNohtXqgW7iQekdhigBQg=s64",
      "userId": "11114933843565574323"
     },
     "user_tz": 300
    },
    "id": "aizqxBx2ieJ5",
    "outputId": "465a6982-3477-4640-b030-6d733ee834f3"
   },
   "outputs": [
    {
     "data": {
      "text/plain": [
       "array([10, 20, 24,  5, 15, 50])"
      ]
     },
     "execution_count": 2,
     "metadata": {},
     "output_type": "execute_result"
    }
   ],
   "source": [
    "arreglo = np.array([10, 20, 24, 5, 15, 50])\n",
    "arreglo"
   ]
  },
  {
   "cell_type": "markdown",
   "metadata": {},
   "source": [
    "#### Otra forma de crear un 'array' es transformando una lista ."
   ]
  },
  {
   "cell_type": "code",
   "execution_count": 3,
   "metadata": {},
   "outputs": [
    {
     "data": {
      "text/plain": [
       "array([ 1,  2,  3,  4,  5,  6,  7,  8,  9, 10])"
      ]
     },
     "execution_count": 3,
     "metadata": {},
     "output_type": "execute_result"
    }
   ],
   "source": [
    "lista = [1, 2, 3, 4, 5, 6, 7, 8, 9, 10]\n",
    "array = np.array(lista)\n",
    "array"
   ]
  },
  {
   "cell_type": "markdown",
   "metadata": {},
   "source": [
    "#### Si usamos 'print' para imprimir un arreglo omitirá la palabra 'array' y sólo tendremos al arreglo en su correspondinte dimensión."
   ]
  },
  {
   "cell_type": "code",
   "execution_count": 4,
   "metadata": {},
   "outputs": [
    {
     "name": "stdout",
     "output_type": "stream",
     "text": [
      "[10 20 24  5 15 50]\n",
      "--------------------------------\n",
      "[ 1  2  3  4  5  6  7  8  9 10]\n"
     ]
    }
   ],
   "source": [
    "print (arreglo)\n",
    "print ('--------------------------------')\n",
    "print (array)"
   ]
  },
  {
   "cell_type": "markdown",
   "metadata": {},
   "source": [
    "#### Podemos tomar un valor en el arreglo, recordando que la cuenta inicia en cero."
   ]
  },
  {
   "cell_type": "code",
   "execution_count": 5,
   "metadata": {
    "colab": {
     "base_uri": "https://localhost:8080/",
     "height": 34
    },
    "colab_type": "code",
    "executionInfo": {
     "elapsed": 518,
     "status": "ok",
     "timestamp": 1566850079963,
     "user": {
      "displayName": "Yesi Days",
      "photoUrl": "https://lh3.googleusercontent.com/a-/AAuE7mCQ_NbHPfVEbt660uXIuQNohtXqgW7iQekdhigBQg=s64",
      "userId": "11114933843565574323"
     },
     "user_tz": 300
    },
    "id": "XpaHWo5OilG9",
    "outputId": "1d53062f-8321-4802-ab25-890dae0915ec"
   },
   "outputs": [
    {
     "data": {
      "text/plain": [
       "75"
      ]
     },
     "execution_count": 5,
     "metadata": {},
     "output_type": "execute_result"
    }
   ],
   "source": [
    "a = np.array([10, 30, 20, 4, 75, 51, 7, 2, 4, 40, 100])\n",
    "a[4]"
   ]
  },
  {
   "cell_type": "markdown",
   "metadata": {},
   "source": [
    "#### Podemos tomar valores en el arreglo dentro de un rango"
   ]
  },
  {
   "cell_type": "code",
   "execution_count": 6,
   "metadata": {
    "colab": {
     "base_uri": "https://localhost:8080/",
     "height": 34
    },
    "colab_type": "code",
    "executionInfo": {
     "elapsed": 510,
     "status": "ok",
     "timestamp": 1566850114923,
     "user": {
      "displayName": "Yesi Days",
      "photoUrl": "https://lh3.googleusercontent.com/a-/AAuE7mCQ_NbHPfVEbt660uXIuQNohtXqgW7iQekdhigBQg=s64",
      "userId": "11114933843565574323"
     },
     "user_tz": 300
    },
    "id": "j6-ZhC4Giwxy",
    "outputId": "cfcc1772-0d34-487f-e5a3-91646f409202"
   },
   "outputs": [
    {
     "data": {
      "text/plain": [
       "array([  4,  75,  51,   7,   2,   4,  40, 100])"
      ]
     },
     "execution_count": 6,
     "metadata": {},
     "output_type": "execute_result"
    }
   ],
   "source": [
    "# Del índice 3 hasta el final.\n",
    "a[3:]"
   ]
  },
  {
   "cell_type": "code",
   "execution_count": 7,
   "metadata": {
    "colab": {
     "base_uri": "https://localhost:8080/",
     "height": 34
    },
    "colab_type": "code",
    "executionInfo": {
     "elapsed": 612,
     "status": "ok",
     "timestamp": 1566850137822,
     "user": {
      "displayName": "Yesi Days",
      "photoUrl": "https://lh3.googleusercontent.com/a-/AAuE7mCQ_NbHPfVEbt660uXIuQNohtXqgW7iQekdhigBQg=s64",
      "userId": "11114933843565574323"
     },
     "user_tz": 300
    },
    "id": "E59NJ7qBi4YI",
    "outputId": "6212d3e8-3a6f-4283-fb32-b3de5e69706d"
   },
   "outputs": [
    {
     "data": {
      "text/plain": [
       "array([ 4, 75, 51,  7])"
      ]
     },
     "execution_count": 7,
     "metadata": {},
     "output_type": "execute_result"
    }
   ],
   "source": [
    "# Del índice 3 hasta el índice 7.\n",
    "a[3:7]"
   ]
  },
  {
   "cell_type": "code",
   "execution_count": 8,
   "metadata": {
    "colab": {
     "base_uri": "https://localhost:8080/",
     "height": 34
    },
    "colab_type": "code",
    "executionInfo": {
     "elapsed": 671,
     "status": "ok",
     "timestamp": 1566850167840,
     "user": {
      "displayName": "Yesi Days",
      "photoUrl": "https://lh3.googleusercontent.com/a-/AAuE7mCQ_NbHPfVEbt660uXIuQNohtXqgW7iQekdhigBQg=s64",
      "userId": "11114933843565574323"
     },
     "user_tz": 300
    },
    "id": "FNgCY5J-i-ot",
    "outputId": "821925a2-9899-4f89-cbfb-1ea4f16fb382"
   },
   "outputs": [
    {
     "data": {
      "text/plain": [
       "array([30,  4, 51,  2, 40])"
      ]
     },
     "execution_count": 8,
     "metadata": {},
     "output_type": "execute_result"
    }
   ],
   "source": [
    "# Del índice 1 hasta el final pero en pasos de 2.\n",
    "a[1::2]"
   ]
  },
  {
   "cell_type": "markdown",
   "metadata": {},
   "source": [
    "#### Podemos crear una arreglo de tamaño $n$ lleno de ceros."
   ]
  },
  {
   "cell_type": "code",
   "execution_count": 9,
   "metadata": {
    "colab": {
     "base_uri": "https://localhost:8080/",
     "height": 34
    },
    "colab_type": "code",
    "executionInfo": {
     "elapsed": 633,
     "status": "ok",
     "timestamp": 1566850210604,
     "user": {
      "displayName": "Yesi Days",
      "photoUrl": "https://lh3.googleusercontent.com/a-/AAuE7mCQ_NbHPfVEbt660uXIuQNohtXqgW7iQekdhigBQg=s64",
      "userId": "11114933843565574323"
     },
     "user_tz": 300
    },
    "id": "jxLWKb5QjJbH",
    "outputId": "15edc3f7-77c8-49d7-9406-ded4867defbb"
   },
   "outputs": [
    {
     "data": {
      "text/plain": [
       "array([0., 0., 0., 0., 0., 0., 0., 0., 0., 0.])"
      ]
     },
     "execution_count": 9,
     "metadata": {},
     "output_type": "execute_result"
    }
   ],
   "source": [
    "# Tomamos n = 10.\n",
    "ceros = np.zeros(10)\n",
    "ceros"
   ]
  },
  {
   "cell_type": "markdown",
   "metadata": {},
   "source": [
    "#### También podemos crear un arreglo con ceros usando 'empty'"
   ]
  },
  {
   "cell_type": "code",
   "execution_count": 10,
   "metadata": {},
   "outputs": [
    {
     "data": {
      "text/plain": [
       "array([0., 0., 0., 0., 0., 0., 0., 0., 0., 0.])"
      ]
     },
     "execution_count": 10,
     "metadata": {},
     "output_type": "execute_result"
    }
   ],
   "source": [
    "ceros_2 = np.empty(10)\n",
    "ceros_2"
   ]
  },
  {
   "cell_type": "markdown",
   "metadata": {},
   "source": [
    "#### Lo mismo podemos hacer con un arreglo lleno de unos."
   ]
  },
  {
   "cell_type": "code",
   "execution_count": 11,
   "metadata": {},
   "outputs": [
    {
     "data": {
      "text/plain": [
       "array([1., 1., 1., 1., 1., 1., 1., 1., 1., 1.])"
      ]
     },
     "execution_count": 11,
     "metadata": {},
     "output_type": "execute_result"
    }
   ],
   "source": [
    "# Tomamos n = 10.\n",
    "unos = np.ones(10)\n",
    "unos"
   ]
  },
  {
   "cell_type": "markdown",
   "metadata": {},
   "source": [
    "#### Podemos entender el arreglo de ceros y unos a arreglos de dos dimensiones, es decir, matrices de $n x m$"
   ]
  },
  {
   "cell_type": "code",
   "execution_count": 12,
   "metadata": {},
   "outputs": [
    {
     "data": {
      "text/plain": [
       "array([[0., 0., 0., 0., 0., 0., 0., 0., 0.],\n",
       "       [0., 0., 0., 0., 0., 0., 0., 0., 0.],\n",
       "       [0., 0., 0., 0., 0., 0., 0., 0., 0.],\n",
       "       [0., 0., 0., 0., 0., 0., 0., 0., 0.],\n",
       "       [0., 0., 0., 0., 0., 0., 0., 0., 0.],\n",
       "       [0., 0., 0., 0., 0., 0., 0., 0., 0.],\n",
       "       [0., 0., 0., 0., 0., 0., 0., 0., 0.]])"
      ]
     },
     "execution_count": 12,
     "metadata": {},
     "output_type": "execute_result"
    }
   ],
   "source": [
    "# Matriz de 7 x 9 llena de ceros.\n",
    "ceros_matriz = np.zeros((7, 9))\n",
    "ceros_matriz"
   ]
  },
  {
   "cell_type": "code",
   "execution_count": 13,
   "metadata": {
    "colab": {
     "base_uri": "https://localhost:8080/",
     "height": 86
    },
    "colab_type": "code",
    "executionInfo": {
     "elapsed": 530,
     "status": "ok",
     "timestamp": 1566850233146,
     "user": {
      "displayName": "Yesi Days",
      "photoUrl": "https://lh3.googleusercontent.com/a-/AAuE7mCQ_NbHPfVEbt660uXIuQNohtXqgW7iQekdhigBQg=s64",
      "userId": "11114933843565574323"
     },
     "user_tz": 300
    },
    "id": "z8Id06RAjP6P",
    "outputId": "8acdb212-370b-46d4-f69f-da67b63a3b6d"
   },
   "outputs": [
    {
     "data": {
      "text/plain": [
       "array([[1., 1., 1., 1., 1., 1., 1., 1.],\n",
       "       [1., 1., 1., 1., 1., 1., 1., 1.],\n",
       "       [1., 1., 1., 1., 1., 1., 1., 1.],\n",
       "       [1., 1., 1., 1., 1., 1., 1., 1.],\n",
       "       [1., 1., 1., 1., 1., 1., 1., 1.],\n",
       "       [1., 1., 1., 1., 1., 1., 1., 1.]])"
      ]
     },
     "execution_count": 13,
     "metadata": {},
     "output_type": "execute_result"
    }
   ],
   "source": [
    "# Matriz de 6 x 8 llena de unos.\n",
    "unos_matriz = np.ones((6, 8))\n",
    "unos_matriz"
   ]
  },
  {
   "cell_type": "markdown",
   "metadata": {},
   "source": [
    "#### Imprimamos de nuevo las matrices pero usando 'print' para omitir la palabra 'array' en la impresión."
   ]
  },
  {
   "cell_type": "code",
   "execution_count": 14,
   "metadata": {},
   "outputs": [
    {
     "name": "stdout",
     "output_type": "stream",
     "text": [
      "[[0. 0. 0. 0. 0. 0. 0. 0. 0.]\n",
      " [0. 0. 0. 0. 0. 0. 0. 0. 0.]\n",
      " [0. 0. 0. 0. 0. 0. 0. 0. 0.]\n",
      " [0. 0. 0. 0. 0. 0. 0. 0. 0.]\n",
      " [0. 0. 0. 0. 0. 0. 0. 0. 0.]\n",
      " [0. 0. 0. 0. 0. 0. 0. 0. 0.]\n",
      " [0. 0. 0. 0. 0. 0. 0. 0. 0.]]\n",
      "---------------------------------\n",
      "[[1. 1. 1. 1. 1. 1. 1. 1.]\n",
      " [1. 1. 1. 1. 1. 1. 1. 1.]\n",
      " [1. 1. 1. 1. 1. 1. 1. 1.]\n",
      " [1. 1. 1. 1. 1. 1. 1. 1.]\n",
      " [1. 1. 1. 1. 1. 1. 1. 1.]\n",
      " [1. 1. 1. 1. 1. 1. 1. 1.]]\n"
     ]
    }
   ],
   "source": [
    "print (ceros_matriz)\n",
    "print ('---------------------------------')\n",
    "print (unos_matriz)"
   ]
  },
  {
   "cell_type": "code",
   "execution_count": 15,
   "metadata": {
    "colab": {
     "base_uri": "https://localhost:8080/",
     "height": 34
    },
    "colab_type": "code",
    "executionInfo": {
     "elapsed": 500,
     "status": "ok",
     "timestamp": 1566850528170,
     "user": {
      "displayName": "Yesi Days",
      "photoUrl": "https://lh3.googleusercontent.com/a-/AAuE7mCQ_NbHPfVEbt660uXIuQNohtXqgW7iQekdhigBQg=s64",
      "userId": "11114933843565574323"
     },
     "user_tz": 300
    },
    "id": "OO-0lZEXjVVY",
    "outputId": "07a70244-d6c4-42cd-c9c6-a16d2dcc0e55"
   },
   "outputs": [
    {
     "name": "stdout",
     "output_type": "stream",
     "text": [
      "<class 'numpy.ndarray'>\n",
      "<class 'numpy.ndarray'>\n",
      "<class 'numpy.ndarray'>\n",
      "<class 'numpy.ndarray'>\n",
      "<class 'numpy.float64'>\n",
      "<class 'numpy.float64'>\n"
     ]
    }
   ],
   "source": [
    "print(type(unos))           \n",
    "print(type(ceros))\n",
    "print(type(unos_matriz))\n",
    "print(type(unos_matriz))\n",
    "print(type(unos[3]))\n",
    "print(type(unos_matriz[3,3]))"
   ]
  },
  {
   "cell_type": "markdown",
   "metadata": {},
   "source": [
    "#### Podemos crear un arreglo con números entre dos valores cada uno con la misma cantidad de diferencia entre sí."
   ]
  },
  {
   "cell_type": "code",
   "execution_count": 16,
   "metadata": {
    "colab": {
     "base_uri": "https://localhost:8080/",
     "height": 34
    },
    "colab_type": "code",
    "executionInfo": {
     "elapsed": 500,
     "status": "ok",
     "timestamp": 1566850771276,
     "user": {
      "displayName": "Yesi Days",
      "photoUrl": "https://lh3.googleusercontent.com/a-/AAuE7mCQ_NbHPfVEbt660uXIuQNohtXqgW7iQekdhigBQg=s64",
      "userId": "11114933843565574323"
     },
     "user_tz": 300
    },
    "id": "9qMrK2bflMdb",
    "outputId": "b4a88d7a-09ea-4e80-cfbf-fac1c2de343c"
   },
   "outputs": [
    {
     "data": {
      "text/plain": [
       "array([ 5., 10., 15., 20., 25., 30., 35., 40., 45., 50.])"
      ]
     },
     "execution_count": 16,
     "metadata": {},
     "output_type": "execute_result"
    }
   ],
   "source": [
    "# 10 Números entre 5 y 50 con la misma cantidad de diferencia entre ellos. \n",
    "np.linspace(5, 50, 10)"
   ]
  },
  {
   "cell_type": "markdown",
   "metadata": {},
   "source": [
    "#### Podemos crear arreglos no sólo con números."
   ]
  },
  {
   "cell_type": "code",
   "execution_count": 17,
   "metadata": {
    "colab": {
     "base_uri": "https://localhost:8080/",
     "height": 68
    },
    "colab_type": "code",
    "executionInfo": {
     "elapsed": 483,
     "status": "ok",
     "timestamp": 1566850826584,
     "user": {
      "displayName": "Yesi Days",
      "photoUrl": "https://lh3.googleusercontent.com/a-/AAuE7mCQ_NbHPfVEbt660uXIuQNohtXqgW7iQekdhigBQg=s64",
      "userId": "11114933843565574323"
     },
     "user_tz": 300
    },
    "id": "wUAL__LDlaoy",
    "outputId": "2479c551-e248-4376-c8e0-1d5b941d71df"
   },
   "outputs": [
    {
     "name": "stdout",
     "output_type": "stream",
     "text": [
      "[['x' 'y' 'z']\n",
      " ['a' 'c' 'e']]\n"
     ]
    },
    {
     "data": {
      "text/plain": [
       "numpy.ndarray"
      ]
     },
     "execution_count": 17,
     "metadata": {},
     "output_type": "execute_result"
    }
   ],
   "source": [
    "arreglo_2 = np.array( [['x', 'y', 'z'], ['a', 'c', 'e']])\n",
    "print(arreglo_2)\n",
    "type(arreglo_2)"
   ]
  },
  {
   "cell_type": "code",
   "execution_count": 18,
   "metadata": {
    "colab": {
     "base_uri": "https://localhost:8080/",
     "height": 34
    },
    "colab_type": "code",
    "executionInfo": {
     "elapsed": 577,
     "status": "ok",
     "timestamp": 1566850848414,
     "user": {
      "displayName": "Yesi Days",
      "photoUrl": "https://lh3.googleusercontent.com/a-/AAuE7mCQ_NbHPfVEbt660uXIuQNohtXqgW7iQekdhigBQg=s64",
      "userId": "11114933843565574323"
     },
     "user_tz": 300
    },
    "id": "QkkoY5DFlnYQ",
    "outputId": "8ca2489f-8ead-4e89-b20b-552fb7f8d101"
   },
   "outputs": [
    {
     "data": {
      "text/plain": [
       "2"
      ]
     },
     "execution_count": 18,
     "metadata": {},
     "output_type": "execute_result"
    }
   ],
   "source": [
    "# Usamos 'ndim' para conocer la dimensión del arreglo. \n",
    "arreglo_2.ndim"
   ]
  },
  {
   "cell_type": "markdown",
   "metadata": {},
   "source": [
    "#### Usando 'sort' podemos ordenar un arreglo númerico en orden ascendente."
   ]
  },
  {
   "cell_type": "code",
   "execution_count": 19,
   "metadata": {
    "colab": {
     "base_uri": "https://localhost:8080/",
     "height": 34
    },
    "colab_type": "code",
    "executionInfo": {
     "elapsed": 482,
     "status": "ok",
     "timestamp": 1566850879467,
     "user": {
      "displayName": "Yesi Days",
      "photoUrl": "https://lh3.googleusercontent.com/a-/AAuE7mCQ_NbHPfVEbt660uXIuQNohtXqgW7iQekdhigBQg=s64",
      "userId": "11114933843565574323"
     },
     "user_tz": 300
    },
    "id": "v2Hauu4dlqlT",
    "outputId": "c9b62c34-c927-4366-e10f-d9a0d594aa91"
   },
   "outputs": [
    {
     "data": {
      "text/plain": [
       "array([ 2,  4,  5, 10, 12, 19, 28, 35, 40, 63, 73, 82, 83, 97])"
      ]
     },
     "execution_count": 19,
     "metadata": {},
     "output_type": "execute_result"
    }
   ],
   "source": [
    "arreglo_num = [12, 4, 10, 40, 2, 5, 97, 63, 82, 73, 35, 28, 83, 19]\n",
    "np.sort(arreglo_num)"
   ]
  },
  {
   "cell_type": "markdown",
   "metadata": {},
   "source": [
    "#### También podemos usar 'sort' en arreglos más complejos."
   ]
  },
  {
   "cell_type": "code",
   "execution_count": 20,
   "metadata": {
    "colab": {
     "base_uri": "https://localhost:8080/",
     "height": 51
    },
    "colab_type": "code",
    "executionInfo": {
     "elapsed": 494,
     "status": "ok",
     "timestamp": 1566851341570,
     "user": {
      "displayName": "Yesi Days",
      "photoUrl": "https://lh3.googleusercontent.com/a-/AAuE7mCQ_NbHPfVEbt660uXIuQNohtXqgW7iQekdhigBQg=s64",
      "userId": "11114933843565574323"
     },
     "user_tz": 300
    },
    "id": "cH3EwvWLly_4",
    "outputId": "53292d73-4131-48f6-c967-3a9ccfe6dc32"
   },
   "outputs": [
    {
     "name": "stdout",
     "output_type": "stream",
     "text": [
      "Arreglo original:            [(b'Juan', 10) (b'Maria', 70) (b'Javier', 42) (b'Samuel', 15)]\n",
      "Arreglo ordenado por edad:   [(b'Juan', 10) (b'Samuel', 15) (b'Javier', 42) (b'Maria', 70)]\n"
     ]
    }
   ],
   "source": [
    "cabeceras = [ ('nombre', 'S10' ), ('edad', int) ]\n",
    "datos = [ ('Juan', 10), ('Maria', 70), ('Javier', 42), ('Samuel', 15) ]\n",
    "usuarios = np.array(datos, dtype = cabeceras)\n",
    "print('Arreglo original:           ', usuarios)\n",
    "\n",
    "orden = np.sort(usuarios, order = 'edad' )\n",
    "print('Arreglo ordenado por edad:  ', orden)"
   ]
  },
  {
   "cell_type": "markdown",
   "metadata": {},
   "source": [
    "#### Con 'arange' podemos crear un arreglo con números naturales según la cantidad que indiquemos."
   ]
  },
  {
   "cell_type": "code",
   "execution_count": 21,
   "metadata": {
    "colab": {
     "base_uri": "https://localhost:8080/",
     "height": 51
    },
    "colab_type": "code",
    "executionInfo": {
     "elapsed": 506,
     "status": "ok",
     "timestamp": 1566851368227,
     "user": {
      "displayName": "Yesi Days",
      "photoUrl": "https://lh3.googleusercontent.com/a-/AAuE7mCQ_NbHPfVEbt660uXIuQNohtXqgW7iQekdhigBQg=s64",
      "userId": "11114933843565574323"
     },
     "user_tz": 300
    },
    "id": "u2VXR1kUnle4",
    "outputId": "ec5cf4fb-3a07-452a-f955-dfffce97e7a4"
   },
   "outputs": [
    {
     "data": {
      "text/plain": [
       "array([ 0,  1,  2,  3,  4,  5,  6,  7,  8,  9, 10, 11, 12, 13, 14, 15, 16,\n",
       "       17, 18, 19, 20, 21, 22, 23, 24, 25, 26, 27, 28, 29, 30, 31, 32, 33,\n",
       "       34, 35, 36, 37, 38, 39, 40, 41, 42, 43, 44, 45, 46, 47, 48, 49, 50])"
      ]
     },
     "execution_count": 21,
     "metadata": {},
     "output_type": "execute_result"
    }
   ],
   "source": [
    "# Arreglo con 51 números, comenzando en cero.\n",
    "np.arange(51)"
   ]
  },
  {
   "cell_type": "code",
   "execution_count": 22,
   "metadata": {
    "colab": {
     "base_uri": "https://localhost:8080/",
     "height": 51
    },
    "colab_type": "code",
    "executionInfo": {
     "elapsed": 758,
     "status": "ok",
     "timestamp": 1566851381465,
     "user": {
      "displayName": "Yesi Days",
      "photoUrl": "https://lh3.googleusercontent.com/a-/AAuE7mCQ_NbHPfVEbt660uXIuQNohtXqgW7iQekdhigBQg=s64",
      "userId": "11114933843565574323"
     },
     "user_tz": 300
    },
    "id": "ql8Rz5Xynpww",
    "outputId": "14a7d2cc-513f-4095-f88f-5c0947990562"
   },
   "outputs": [
    {
     "data": {
      "text/plain": [
       "array([10, 11, 12, 13, 14, 15, 16, 17, 18, 19, 20, 21, 22, 23, 24, 25, 26,\n",
       "       27, 28, 29, 30, 31, 32, 33, 34, 35, 36, 37, 38, 39, 40, 41, 42, 43,\n",
       "       44, 45, 46, 47, 48, 49, 50])"
      ]
     },
     "execution_count": 22,
     "metadata": {},
     "output_type": "execute_result"
    }
   ],
   "source": [
    "# Arreglo con números naturales pero en un rango entre 10 y 50\n",
    "np.arange(10,51)"
   ]
  },
  {
   "cell_type": "code",
   "execution_count": 23,
   "metadata": {
    "colab": {
     "base_uri": "https://localhost:8080/",
     "height": 34
    },
    "colab_type": "code",
    "executionInfo": {
     "elapsed": 471,
     "status": "ok",
     "timestamp": 1566851403330,
     "user": {
      "displayName": "Yesi Days",
      "photoUrl": "https://lh3.googleusercontent.com/a-/AAuE7mCQ_NbHPfVEbt660uXIuQNohtXqgW7iQekdhigBQg=s64",
      "userId": "11114933843565574323"
     },
     "user_tz": 300
    },
    "id": "oPjf2wMentaf",
    "outputId": "d64169e8-a4eb-47ae-fa33-a430f33309b4"
   },
   "outputs": [
    {
     "data": {
      "text/plain": [
       "array([ 5, 10, 15, 20, 25, 30, 35, 40, 45, 50])"
      ]
     },
     "execution_count": 23,
     "metadata": {},
     "output_type": "execute_result"
    }
   ],
   "source": [
    "# Números entre 5 y 51 pero en pasos de 5.\n",
    "np.arange(5, 51, 5)"
   ]
  },
  {
   "cell_type": "markdown",
   "metadata": {},
   "source": [
    "#### Es posible crear arreglos de $n x m$ no sólo con ceros y unos sino que con cualquier número, usando 'full'."
   ]
  },
  {
   "cell_type": "code",
   "execution_count": 24,
   "metadata": {
    "colab": {
     "base_uri": "https://localhost:8080/",
     "height": 68
    },
    "colab_type": "code",
    "executionInfo": {
     "elapsed": 463,
     "status": "ok",
     "timestamp": 1566851430403,
     "user": {
      "displayName": "Yesi Days",
      "photoUrl": "https://lh3.googleusercontent.com/a-/AAuE7mCQ_NbHPfVEbt660uXIuQNohtXqgW7iQekdhigBQg=s64",
      "userId": "11114933843565574323"
     },
     "user_tz": 300
    },
    "id": "NL6oWaQWnz7r",
    "outputId": "085a8efb-a23d-4072-a08c-49e3bae6f8b4"
   },
   "outputs": [
    {
     "name": "stdout",
     "output_type": "stream",
     "text": [
      "[[8 8 8 8 8 8 8 8]\n",
      " [8 8 8 8 8 8 8 8]\n",
      " [8 8 8 8 8 8 8 8]\n",
      " [8 8 8 8 8 8 8 8]\n",
      " [8 8 8 8 8 8 8 8]\n",
      " [8 8 8 8 8 8 8 8]]\n",
      "----------------------------\n",
      "[[10 10 10 10 10 10]\n",
      " [10 10 10 10 10 10]\n",
      " [10 10 10 10 10 10]\n",
      " [10 10 10 10 10 10]]\n"
     ]
    }
   ],
   "source": [
    "a = np.full( (6, 8), 8)\n",
    "b = np.full((4, 6), 10)\n",
    "print(a)\n",
    "print('----------------------------')\n",
    "print(b)"
   ]
  },
  {
   "cell_type": "markdown",
   "metadata": {},
   "source": [
    "#### Podemos crear matrices diagonales con 'diag'."
   ]
  },
  {
   "cell_type": "code",
   "execution_count": 25,
   "metadata": {
    "colab": {
     "base_uri": "https://localhost:8080/",
     "height": 86
    },
    "colab_type": "code",
    "executionInfo": {
     "elapsed": 491,
     "status": "ok",
     "timestamp": 1566851455711,
     "user": {
      "displayName": "Yesi Days",
      "photoUrl": "https://lh3.googleusercontent.com/a-/AAuE7mCQ_NbHPfVEbt660uXIuQNohtXqgW7iQekdhigBQg=s64",
      "userId": "11114933843565574323"
     },
     "user_tz": 300
    },
    "id": "43LOkTF2n4Z3",
    "outputId": "d579351c-dd60-4b54-9b21-638bec49607a"
   },
   "outputs": [
    {
     "data": {
      "text/plain": [
       "array([[ 1,  0,  0,  0,  0,  0],\n",
       "       [ 0,  3,  0,  0,  0,  0],\n",
       "       [ 0,  0,  9,  0,  0,  0],\n",
       "       [ 0,  0,  0, 10,  0,  0],\n",
       "       [ 0,  0,  0,  0,  6,  0],\n",
       "       [ 0,  0,  0,  0,  0,  8]])"
      ]
     },
     "execution_count": 25,
     "metadata": {},
     "output_type": "execute_result"
    }
   ],
   "source": [
    "np.diag ( [1, 3, 9, 10, 6, 8] )"
   ]
  },
  {
   "cell_type": "markdown",
   "metadata": {},
   "source": [
    "#### Construyamos una matriz."
   ]
  },
  {
   "cell_type": "code",
   "execution_count": 26,
   "metadata": {},
   "outputs": [
    {
     "data": {
      "text/plain": [
       "array([[ 1,  2,  3,  4,  5],\n",
       "       [ 6,  7,  8,  9, 10],\n",
       "       [11, 12, 13, 14, 15]])"
      ]
     },
     "execution_count": 26,
     "metadata": {},
     "output_type": "execute_result"
    }
   ],
   "source": [
    "matriz = np.array([[1,2,3,4,5], [6,7,8,9,10], [11,12,13,14,15]])\n",
    "matriz"
   ]
  },
  {
   "cell_type": "markdown",
   "metadata": {},
   "source": [
    "#### Podemos acceder a un valor de la matriz indicando el número de la fila y el número de la columna recordando que la cuenta inicia en cero."
   ]
  },
  {
   "cell_type": "code",
   "execution_count": 27,
   "metadata": {},
   "outputs": [
    {
     "data": {
      "text/plain": [
       "14"
      ]
     },
     "execution_count": 27,
     "metadata": {},
     "output_type": "execute_result"
    }
   ],
   "source": [
    "# Fila 3 indicada con 2 y columna 4 indicada con el 3.\n",
    "matriz[2,3]"
   ]
  },
  {
   "cell_type": "markdown",
   "metadata": {},
   "source": [
    "#### Podemos pasar un arreglo de índices"
   ]
  },
  {
   "cell_type": "code",
   "execution_count": 28,
   "metadata": {},
   "outputs": [
    {
     "name": "stdout",
     "output_type": "stream",
     "text": [
      "El vector con números aleatorios es: \n",
      "\n",
      "[0.05465679 0.75048468 0.49789275 0.1402808  0.5395708  0.6337603\n",
      " 0.62058706 0.96363246 0.67304009 0.85034454] \n",
      "\n",
      "El vector con los números de acuerdo a los índices es: \n",
      "\n",
      "[0.75048468 0.49789275 0.1402808  0.1402808  0.5395708  0.6337603 ]\n"
     ]
    }
   ],
   "source": [
    "indices = np.array([1, 2, 3, 3, 4, 5]) # Notar que estamos repitiendo el índice 3.\n",
    "\n",
    "# Creamos ahora un arreglo con 10 número aleatorios entre 0 y 1:\n",
    "aleatorio = np.random.random(10)\n",
    "print ('El vector con números aleatorios es: \\n')\n",
    "print (aleatorio, '\\n')\n",
    "\n",
    "# A cada valor del arreglo con números aleatorios le asignamos un índice:\n",
    "indices_aleatorio = aleatorio[indices]\n",
    "\n",
    "print ('El vector con los números de acuerdo a los índices es: \\n')\n",
    "print (indices_aleatorio)"
   ]
  },
  {
   "cell_type": "code",
   "execution_count": 29,
   "metadata": {},
   "outputs": [
    {
     "name": "stdout",
     "output_type": "stream",
     "text": [
      "[1 3 5 6]\n"
     ]
    }
   ],
   "source": [
    "# Probemos con valores booleanos.\n",
    "indices_2 = np.array([1, 2, 3, 4, 5, 6, 7])\n",
    "booleano = np.array([True, False, True, False, True, True, False])\n",
    "print (indices_2[booleano])    # Nos imprimirá aquellos indices con True."
   ]
  },
  {
   "cell_type": "markdown",
   "metadata": {},
   "source": [
    "### Operaciones con Arreglos."
   ]
  },
  {
   "cell_type": "code",
   "execution_count": 30,
   "metadata": {},
   "outputs": [
    {
     "name": "stdout",
     "output_type": "stream",
     "text": [
      "Multiplicación por si mismo:  [  1.   4.   9.  16.  25.  36.  49.  64.  81. 100.]\n",
      "Cuadrado del arreglo:         [  1.   4.   9.  16.  25.  36.  49.  64.  81. 100.]\n",
      "Suma de arreglo con unos:     [ 2.  3.  4.  5.  6.  7.  8.  9. 10. 11.]\n",
      "Resta de arreglo con unos:    [0. 1. 2. 3. 4. 5. 6. 7. 8. 9.]\n",
      "División de todo el arreglo:  [0.5 1.  1.5 2.  2.5 3.  3.5 4.  4.5 5. ]\n",
      "División entrada a entrada:   [0.5 0.5 2.  2.  2.  2.  1.  4.  3.  2. ]\n"
     ]
    }
   ],
   "source": [
    "mi_arreglo = np.array([1., 2., 3., 4., 5., 6., 7., 8., 9., 10.])\n",
    "print ('Multiplicación por si mismo: ', mi_arreglo * mi_arreglo)\n",
    "print ('Cuadrado del arreglo:        ', mi_arreglo ** 2)\n",
    "print ('Suma de arreglo con unos:    ', mi_arreglo + np.ones(10))\n",
    "print ('Resta de arreglo con unos:   ', mi_arreglo - np.ones(10))\n",
    "print ('División de todo el arreglo: ', mi_arreglo / 2)\n",
    "print ('División entrada a entrada:  ', mi_arreglo / np.array([2., 4., 1.5, 2., 2.5, 3., 7., 2., 3., 5.]))"
   ]
  },
  {
   "cell_type": "code",
   "execution_count": 31,
   "metadata": {},
   "outputs": [
    {
     "name": "stdout",
     "output_type": "stream",
     "text": [
      "La suma del arreglo es:                  55.0\n",
      "El tamaño del arreglo es:                10\n",
      "El promedio usando la suma y tamaño es:  5.5\n",
      "El promedio usando numpy es:             5.5\n"
     ]
    }
   ],
   "source": [
    "suma = np.sum(mi_arreglo)\n",
    "tamaño = len(mi_arreglo)\n",
    "promedio = suma / tamaño \n",
    "promedio_2 = np.average(mi_arreglo)\n",
    "print ('La suma del arreglo es:                 ', suma)\n",
    "print ('El tamaño del arreglo es:               ', tamaño)\n",
    "print ('El promedio usando la suma y tamaño es: ', promedio)\n",
    "print ('El promedio usando numpy es:            ', promedio_2)"
   ]
  },
  {
   "cell_type": "markdown",
   "metadata": {},
   "source": [
    "### El producto punto."
   ]
  },
  {
   "cell_type": "code",
   "execution_count": 32,
   "metadata": {},
   "outputs": [
    {
     "name": "stdout",
     "output_type": "stream",
     "text": [
      "40.0\n",
      "40.0\n"
     ]
    }
   ],
   "source": [
    "arreglo1 = np.array([1., 2., 3., 4.])\n",
    "arreglo2 = np.array([2., 3., 4., 5.])\n",
    "print (np.sum(arreglo1 * arreglo2))\n",
    "\n",
    "# Con np.dot podemos calcular el producto interno.\n",
    "print (np.dot(arreglo1, arreglo2))"
   ]
  },
  {
   "cell_type": "markdown",
   "metadata": {},
   "source": [
    "#### Norma de un vector usando el producto punto."
   ]
  },
  {
   "cell_type": "code",
   "execution_count": 33,
   "metadata": {},
   "outputs": [
    {
     "name": "stdout",
     "output_type": "stream",
     "text": [
      "5.477225575051661\n",
      "5.477225575051661\n"
     ]
    }
   ],
   "source": [
    "norma = np.sqrt(np.sum(arreglo1 * arreglo1))\n",
    "norma2 = np.sqrt(np.dot(arreglo1, arreglo1))\n",
    "print (norma)\n",
    "print (norma2)"
   ]
  },
  {
   "cell_type": "markdown",
   "metadata": {},
   "source": [
    "#### Podemos hacer el producto entre una matriz y un vector siempre y cuando el número de columnas de la matriz sea igual al número de elementos del vector."
   ]
  },
  {
   "cell_type": "code",
   "execution_count": 34,
   "metadata": {},
   "outputs": [
    {
     "name": "stdout",
     "output_type": "stream",
     "text": [
      "Matriz con 2 columnas: \n",
      " [[1. 2.]\n",
      " [3. 4.]\n",
      " [5. 6.]\n",
      " [7. 8.]]\n",
      "Vector con dos elementos: \n",
      " [2 4]\n",
      "Multiplicación: \n",
      " [10. 22. 34. 46.]\n"
     ]
    }
   ],
   "source": [
    "caracteristicas = np.array([[1., 2.], [3., 4.], [5., 6.], [7., 8.]])\n",
    "print ('Matriz con 2 columnas: \\n', caracteristicas)\n",
    "\n",
    "pesos = np.array([2, 4])\n",
    "print ('Vector con dos elementos: \\n', pesos)\n",
    "\n",
    "predicion = np.dot(caracteristicas, pesos)\n",
    "print ('Multiplicación: \\n', predicion)"
   ]
  },
  {
   "cell_type": "markdown",
   "metadata": {},
   "source": [
    "### Multipicacion de Matrices."
   ]
  },
  {
   "cell_type": "code",
   "execution_count": 35,
   "metadata": {},
   "outputs": [
    {
     "name": "stdout",
     "output_type": "stream",
     "text": [
      "matriz 1: \n",
      " [[1. 2. 3.]\n",
      " [4. 5. 6.]]\n",
      "matriz 2: \n",
      " [[1. 2.]\n",
      " [3. 4.]\n",
      " [5. 6.]]\n",
      "producto de matrices: \n",
      " [[22. 28.]\n",
      " [49. 64.]]\n"
     ]
    }
   ],
   "source": [
    "matriz_1 = np.array([[1., 2., 3.],[4., 5., 6.]])\n",
    "print ('matriz 1: \\n', matriz_1)\n",
    "\n",
    "matriz_2 = np.array([[1., 2.], [3., 4.], [5., 6.]])\n",
    "print ('matriz 2: \\n', matriz_2)\n",
    "\n",
    "print ('producto de matrices: \\n', np.dot(matriz_1, matriz_2))"
   ]
  }
 ],
 "metadata": {
  "colab": {
   "collapsed_sections": [],
   "name": "introducción a numpy.ipynb",
   "provenance": []
  },
  "kernelspec": {
   "display_name": "Python 3",
   "language": "python",
   "name": "python3"
  },
  "language_info": {
   "codemirror_mode": {
    "name": "ipython",
    "version": 3
   },
   "file_extension": ".py",
   "mimetype": "text/x-python",
   "name": "python",
   "nbconvert_exporter": "python",
   "pygments_lexer": "ipython3",
   "version": "3.7.6"
  }
 },
 "nbformat": 4,
 "nbformat_minor": 1
}
